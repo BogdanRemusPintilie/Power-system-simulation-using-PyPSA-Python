{
 "cells": [
  {
   "cell_type": "code",
   "execution_count": 11,
   "id": "5a47cbb6",
   "metadata": {},
   "outputs": [
    {
     "data": {
      "text/plain": [
       "(<matplotlib.collections.PatchCollection at 0x25d9bb49490>,\n",
       " <matplotlib.collections.LineCollection at 0x25d9bb4b210>)"
      ]
     },
     "execution_count": 11,
     "metadata": {},
     "output_type": "execute_result"
    },
    {
     "name": "stderr",
     "output_type": "stream",
     "text": [
      "C:\\Users\\Bogdan\\anaconda3\\Lib\\site-packages\\cartopy\\mpl\\style.py:76: UserWarning:\n",
      "\n",
      "facecolor will have no effect as it has been defined as \"never\".\n",
      "\n"
     ]
    },
    {
     "data": {
      "image/png": "[encoded data removed]",
      "text/plain": [
       "<Figure size 640x480 with 1 Axes>"
      ]
     },
     "metadata": {},
     "output_type": "display_data"
    }
   ],
   "source": [
    "import pypsa\n",
    "import matplotlib.pyplot as plt\n",
    "\n",
    "network = pypsa.Network()\n",
    "\n",
    "nbus=5 #number of buses\n",
    "\n",
    "for i in range(nbus):\n",
    "    network.add(\"Bus\", \"Bus number {}\".format(i), v_nom=132)\n",
    "\n",
    "\n",
    "for i in range(nbus-1):\n",
    "    network.add(\"Line\", \"Line number {}\".format(i), bus0=\"Bus number {}\".format(i), bus1=\"Bus number {}\".format(i+1),\n",
    "                r=0.02, x=0.3)\n",
    "\n",
    "network.add(\"Generator\", \"Slack Generator\", bus=\"Bus number 0\", p_set=0, control=\"Slack\")\n",
    "\n",
    "network.add(\"Generator\", \"Gen number 1\", bus=\"Bus number 3\", p_set=60, control=\"PV\")\n",
    "\n",
    "network.add(\"Load\", \"Load number 1\", bus=\"Bus number 4\", p_set=91, q_set=41)\n",
    "\n",
    "network.plot()"
   ]
  },
  {
   "cell_type": "code",
   "execution_count": 14,
   "id": "8f342eb6",
   "metadata": {},
   "outputs": [
    {
     "name": "stderr",
     "output_type": "stream",
     "text": [
      "INFO:pypsa.pf:Performing non-linear load-flow on AC sub-network SubNetwork 0 for snapshots Index(['now'], dtype='object', name='snapshot')\n",
      "INFO:pypsa.pf:Newton-Raphson solved in 2 iterations with error of 0.000000 in 0.015550 seconds\n"
     ]
    },
    {
     "data": {
      "text/html": [
       "<div>\n",
       "<style scoped>\n",
       "    .dataframe tbody tr th:only-of-type {\n",
       "        vertical-align: middle;\n",
       "    }\n",
       "\n",
       "    .dataframe tbody tr th {\n",
       "        vertical-align: top;\n",
       "    }\n",
       "\n",
       "    .dataframe thead th {\n",
       "        text-align: right;\n",
       "    }\n",
       "</style>\n",
       "<table border=\"1\" class=\"dataframe\">\n",
       "  <thead>\n",
       "    <tr style=\"text-align: right;\">\n",
       "      <th></th>\n",
       "      <th>Line number 0</th>\n",
       "      <th>Line number 1</th>\n",
       "      <th>Line number 2</th>\n",
       "      <th>Line number 3</th>\n",
       "    </tr>\n",
       "    <tr>\n",
       "      <th>snapshot</th>\n",
       "      <th></th>\n",
       "      <th></th>\n",
       "      <th></th>\n",
       "      <th></th>\n",
       "    </tr>\n",
       "  </thead>\n",
       "  <tbody>\n",
       "    <tr>\n",
       "      <th>now</th>\n",
       "      <td>31.01478</td>\n",
       "      <td>31.013671</td>\n",
       "      <td>31.012562</td>\n",
       "      <td>91.011453</td>\n",
       "    </tr>\n",
       "  </tbody>\n",
       "</table>\n",
       "</div>"
      ],
      "text/plain": [
       "          Line number 0  Line number 1  Line number 2  Line number 3\n",
       "snapshot                                                            \n",
       "now            31.01478      31.013671      31.012562      91.011453"
      ]
     },
     "execution_count": 14,
     "metadata": {},
     "output_type": "execute_result"
    }
   ],
   "source": [
    "network.pf()\n",
    "\n",
    "network.lines_t.p0 #active power flows on each line"
   ]
  },
  {
   "cell_type": "code",
   "execution_count": 15,
   "id": "43fefc29",
   "metadata": {},
   "outputs": [
    {
     "data": {
      "text/html": [
       "<div>\n",
       "<style scoped>\n",
       "    .dataframe tbody tr th:only-of-type {\n",
       "        vertical-align: middle;\n",
       "    }\n",
       "\n",
       "    .dataframe tbody tr th {\n",
       "        vertical-align: top;\n",
       "    }\n",
       "\n",
       "    .dataframe thead th {\n",
       "        text-align: right;\n",
       "    }\n",
       "</style>\n",
       "<table border=\"1\" class=\"dataframe\">\n",
       "  <thead>\n",
       "    <tr style=\"text-align: right;\">\n",
       "      <th></th>\n",
       "      <th>Line number 0</th>\n",
       "      <th>Line number 1</th>\n",
       "      <th>Line number 2</th>\n",
       "      <th>Line number 3</th>\n",
       "    </tr>\n",
       "    <tr>\n",
       "      <th>snapshot</th>\n",
       "      <th></th>\n",
       "      <th></th>\n",
       "      <th></th>\n",
       "      <th></th>\n",
       "    </tr>\n",
       "  </thead>\n",
       "  <tbody>\n",
       "    <tr>\n",
       "      <th>now</th>\n",
       "      <td>-2.04259</td>\n",
       "      <td>-2.059224</td>\n",
       "      <td>-2.075858</td>\n",
       "      <td>41.171801</td>\n",
       "    </tr>\n",
       "  </tbody>\n",
       "</table>\n",
       "</div>"
      ],
      "text/plain": [
       "          Line number 0  Line number 1  Line number 2  Line number 3\n",
       "snapshot                                                            \n",
       "now            -2.04259      -2.059224      -2.075858      41.171801"
      ]
     },
     "execution_count": 15,
     "metadata": {},
     "output_type": "execute_result"
    }
   ],
   "source": [
    "network.lines_t.q0 #reactive power flows on each line"
   ]
  }
 ],
 "metadata": {
  "kernelspec": {
   "display_name": "Python 3 (ipykernel)",
   "language": "python",
   "name": "python3"
  },
  "language_info": {
   "codemirror_mode": {
    "name": "ipython",
    "version": 3
   },
   "file_extension": ".py",
   "mimetype": "text/x-python",
   "name": "python",
   "nbconvert_exporter": "python",
   "pygments_lexer": "ipython3",
   "version": "3.11.4"
  }
 },
 "nbformat": 4,
 "nbformat_minor": 5
}
